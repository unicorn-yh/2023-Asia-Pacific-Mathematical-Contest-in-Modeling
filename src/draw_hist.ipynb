{
 "cells": [
  {
   "cell_type": "code",
   "execution_count": 5,
   "metadata": {},
   "outputs": [],
   "source": [
    "import os\n",
    "import cv2\n",
    "import torch\n",
    "import numpy as np\n",
    "from torch.utils.data import TensorDataset, DataLoader\n",
    "from torch import nn\n",
    "from torch.functional import F"
   ]
  },
  {
   "cell_type": "code",
   "execution_count": 6,
   "metadata": {},
   "outputs": [],
   "source": [
    "# HYPERPARAMS\n",
    "FILTER_SIZE_1 = 3     # Convolutional Layer 1\n",
    "FILTER_NUM_1 = 32\n",
    "FILTER_SIZE_2 = 3     # Convolutional Layer 2\n",
    "FILTER_NUM_2 = 32\n",
    "FILTER_SIZE_3 = 3     # Convolutional Layer 3\n",
    "FILTER_NUM_3 = 64\n",
    "FC_SIZE = 128         # Number of neurons in fully-connected layer\n",
    "H_IMG, W_IMG, C_IMG = 180, 270, 3\n",
    "CLASSES = ['apple', 'carambola', 'pear', 'plum', 'tomato']\n",
    "NUM_CLASSES = len(CLASSES)\n",
    "BATCH_SIZE = 16\n",
    "DATASET_SIZE = 12005\n",
    "SPLIT_PROPORTION = 0.2\n",
    "CHECKPOINT_DIR = \"../models/\"\n",
    "EPOCHS = 32\n",
    "LEARNING_RATE = 1e-5\n",
    "WEIGHT_DECAY = 5e-4\n",
    "VALID_DATA_PATH = \"../Attachment/Attachment 3/\"\n",
    "DATA_PATH = \"../Attachment/Attachment 2/\""
   ]
  },
  {
   "cell_type": "code",
   "execution_count": 7,
   "metadata": {},
   "outputs": [],
   "source": [
    "class ConvNet(nn.Module):\n",
    "    def __init__(self):\n",
    "        super(ConvNet, self).__init__()\n",
    "        # Convolutional layers\n",
    "        self.conv1 = nn.Conv2d(C_IMG, FILTER_NUM_1, FILTER_SIZE_1, padding=FILTER_SIZE_1//2)\n",
    "        self.conv2 = nn.Conv2d(FILTER_NUM_1, FILTER_NUM_2, FILTER_SIZE_2, padding=FILTER_SIZE_2//2)\n",
    "        self.conv3 = nn.Conv2d(FILTER_NUM_2, FILTER_NUM_3, FILTER_SIZE_3, padding=FILTER_SIZE_3//2)\n",
    "\n",
    "        # Pooling layer\n",
    "        self.pool = nn.MaxPool2d(2, 2)\n",
    "\n",
    "        # Fully connected layers\n",
    "        # Calculate the size of the flattened layer\n",
    "        self.fc1_size = self._get_conv_output((C_IMG, H_IMG, W_IMG))\n",
    "        self.fc1 = nn.Linear(self.fc1_size, FC_SIZE)\n",
    "        self.fc2 = nn.Linear(FC_SIZE, NUM_CLASSES)\n",
    "\n",
    "    def forward(self, x):\n",
    "        x = x.float()\n",
    "        \n",
    "        # Reorder to [BATCH_SIZE, channels, height, width]\n",
    "        x = x.permute(0, 3, 1, 2)  \n",
    "        \n",
    "        # Apply convolutions and max pooling\n",
    "        x = self.pool(F.relu(self.conv1(x)))\n",
    "        x = self.pool(F.relu(self.conv2(x)))\n",
    "        x = self.pool(F.relu(self.conv3(x)))\n",
    "\n",
    "        # Flatten the output for the dense layer\n",
    "        x = x.reshape(-1, self.fc1_size)\n",
    "\n",
    "        # Fully connected layers\n",
    "        x = F.relu(self.fc1(x))\n",
    "        x = self.fc2(x)\n",
    "        return x\n",
    "\n",
    "    def _get_conv_output(self, shape):\n",
    "        with torch.no_grad():\n",
    "            input = torch.rand(1, *shape)\n",
    "            output = self._forward_features(input)\n",
    "            return int(np.prod(output.size()))\n",
    "\n",
    "    def _forward_features(self, x):\n",
    "        x = self.pool(F.relu(self.conv1(x)))\n",
    "        x = self.pool(F.relu(self.conv2(x)))\n",
    "        x = self.pool(F.relu(self.conv3(x)))\n",
    "        return x\n",
    "\n",
    "model = ConvNet()"
   ]
  },
  {
   "cell_type": "code",
   "execution_count": 10,
   "metadata": {},
   "outputs": [
    {
     "ename": "TypeError",
     "evalue": "'ConvNet' object is not subscriptable",
     "output_type": "error",
     "traceback": [
      "\u001b[1;31m---------------------------------------------------------------------------\u001b[0m",
      "\u001b[1;31mTypeError\u001b[0m                                 Traceback (most recent call last)",
      "\u001b[1;32md:\\Project\\Mathematical-Contest-In-Modeling\\src\\draw_hist.ipynb Cell 4\u001b[0m line \u001b[0;36m4\n\u001b[0;32m      <a href='vscode-notebook-cell:/d%3A/Project/Mathematical-Contest-In-Modeling/src/draw_hist.ipynb#W2sZmlsZQ%3D%3D?line=1'>2</a>\u001b[0m checkpoint \u001b[39m=\u001b[39m torch\u001b[39m.\u001b[39mload(\u001b[39m'\u001b[39m\u001b[39m../models/checkpoint.pt\u001b[39m\u001b[39m'\u001b[39m,map_location\u001b[39m=\u001b[39mtorch\u001b[39m.\u001b[39mdevice(\u001b[39m'\u001b[39m\u001b[39mcpu\u001b[39m\u001b[39m'\u001b[39m))\n\u001b[0;32m      <a href='vscode-notebook-cell:/d%3A/Project/Mathematical-Contest-In-Modeling/src/draw_hist.ipynb#W2sZmlsZQ%3D%3D?line=2'>3</a>\u001b[0m \u001b[39m# Load model state\u001b[39;00m\n\u001b[1;32m----> <a href='vscode-notebook-cell:/d%3A/Project/Mathematical-Contest-In-Modeling/src/draw_hist.ipynb#W2sZmlsZQ%3D%3D?line=3'>4</a>\u001b[0m model\u001b[39m.\u001b[39mload_state_dict(checkpoint[\u001b[39m'\u001b[39;49m\u001b[39mmodel_state_dict\u001b[39;49m\u001b[39m'\u001b[39;49m])\n\u001b[0;32m      <a href='vscode-notebook-cell:/d%3A/Project/Mathematical-Contest-In-Modeling/src/draw_hist.ipynb#W2sZmlsZQ%3D%3D?line=4'>5</a>\u001b[0m \u001b[39m# Load optimizer state (if saved)\u001b[39;00m\n\u001b[0;32m      <a href='vscode-notebook-cell:/d%3A/Project/Mathematical-Contest-In-Modeling/src/draw_hist.ipynb#W2sZmlsZQ%3D%3D?line=5'>6</a>\u001b[0m \u001b[39mif\u001b[39;00m \u001b[39m'\u001b[39m\u001b[39moptimizer_state_dict\u001b[39m\u001b[39m'\u001b[39m \u001b[39min\u001b[39;00m checkpoint:\n",
      "\u001b[1;31mTypeError\u001b[0m: 'ConvNet' object is not subscriptable"
     ]
    }
   ],
   "source": [
    "# Load checkpoint\n",
    "checkpoint = torch.load('../models/checkpoint.pt',map_location=torch.device('cpu'))\n",
    "# Load model state\n",
    "model.load_state_dict(checkpoint['model_state_dict'])\n",
    "# Load optimizer state (if saved)\n",
    "if 'optimizer_state_dict' in checkpoint:\n",
    "    print(True)\n",
    "    #optimizer.load_state_dict(checkpoint['optimizer_state_dict'])\n",
    "\n",
    "# If you also saved other items like the epoch, loss, etc.\n",
    "if 'epoch' in checkpoint:\n",
    "    epoch = checkpoint['epoch']\n",
    "if 'loss' in checkpoint:\n",
    "    loss = checkpoint['loss']\n",
    "\n",
    "# Don't forget to set the model to training or evaluation mode as needed\n",
    "model.eval()  # or model.train(), depending on what you need\n"
   ]
  },
  {
   "cell_type": "code",
   "execution_count": null,
   "metadata": {},
   "outputs": [],
   "source": [
    "VALID_DATA_PATH = \"../Attachment/Attachment 3/\"\n",
    "valid_data_x = []\n",
    "valid_data_y = []\n",
    "ids = []\n",
    "for path in os.listdir(VALID_DATA_PATH):\n",
    "    image = cv2.imread(VALID_DATA_PATH + path)\n",
    "    id = int(path.split('(')[1].split(')')[0])\n",
    "    ids.append(id)\n",
    "    valid_data_x.append(image)\n",
    "    valid_data_y.append(0)\n",
    "output_valid_x = valid_data_x\n",
    "valid_data_x = np.array(valid_data_x) / 255.0\n",
    "print(valid_data_x.shape)\n",
    "valid_data_x = torch.tensor(np.array(valid_data_x))        \n",
    "valid_data_y = torch.tensor(np.array(valid_data_y))        \n",
    "valid_dataset = TensorDataset(valid_data_x, valid_data_y)\n",
    "data_loader_valid = DataLoader(dataset=valid_dataset, batch_size=BATCH_SIZE, shuffle=False)"
   ]
  }
 ],
 "metadata": {
  "kernelspec": {
   "display_name": "Python 3",
   "language": "python",
   "name": "python3"
  },
  "language_info": {
   "codemirror_mode": {
    "name": "ipython",
    "version": 3
   },
   "file_extension": ".py",
   "mimetype": "text/x-python",
   "name": "python",
   "nbconvert_exporter": "python",
   "pygments_lexer": "ipython3",
   "version": "3.11.4"
  }
 },
 "nbformat": 4,
 "nbformat_minor": 2
}
